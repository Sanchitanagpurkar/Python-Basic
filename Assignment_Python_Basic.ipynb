{
  "nbformat": 4,
  "nbformat_minor": 0,
  "metadata": {
    "colab": {
      "provenance": []
    },
    "kernelspec": {
      "name": "python3",
      "display_name": "Python 3"
    },
    "language_info": {
      "name": "python"
    }
  },
  "cells": [
    {
      "cell_type": "code",
      "execution_count": null,
      "metadata": {
        "id": "19_Clw0KwsDJ"
      },
      "outputs": [],
      "source": []
    },
    {
      "cell_type": "markdown",
      "source": [
        "# Python Basics Questions\n",
        "\n",
        "1.\tWhat is Python, and why is it popular?\n",
        "  - Python is a high-level, interpreted, general-purpose programming language known for its readability and simplicity. It's popular because of its large standard library, community support, cross-platform compatibility, and wide use in areas like web development, data science, AI, and automation.\n",
        "\n",
        "2.\tWhat is an interpreter in Python?\n",
        "  - An interpreter reads and executes Python code line by line, translating high-level instructions into machine code at runtime.\n",
        "\n",
        "3.\tWhat are pre-defined keywords in Python?\n",
        "  - Keywords are reserved words that have special meaning in Python, like if, else, while, True, False, etc.\n",
        "\n",
        "4.\tCan keywords be used as variable names?\n",
        "  - No, keywords cannot be used as variable names because they are reserved for specific syntactic purposes.\n",
        "\n",
        "5.\tWhat is mutability in Python?\n",
        "  - Mutability refers to whether an object's content can be changed after it is created. Mutable types can be changed, while immutable types cannot.\n",
        "\n",
        "6.\tWhy are lists mutable, but tuples are immutable?\n",
        "  - Lists are designed to hold dynamic data, allowing changes, while tuples are designed to store fixed collections of items for data integrity and hashing purposes.\n",
        "\n",
        "7.\tWhat is the difference between == and is operators in Python?\n",
        "  - == checks if values are equal.\n",
        "  - is checks if two variables point to the same memory location (identity).\n",
        "\n",
        "8.\tWhat are logical operators in Python?\n",
        "  - Logical operators include:\n",
        "      - and: True if both conditions are true\n",
        "      - or: True if at least one condition is true\n",
        "      - not: Reverses the truth value\n",
        "\n",
        "9.\tWhat is type casting in Python?\n",
        "  - Type casting is converting one data type to another (e.g., int(\"5\") converts string \"5\" to integer 5).\n",
        "\n",
        "10.\tWhat is the difference between implicit and explicit type casting?\n",
        "  - Implicit: Automatically done by Python (e.g., int + float = float).\n",
        "  -\tExplicit: Manually done using functions like int(), float(), str(), etc.\n",
        "\n",
        "11.\tWhat is the purpose of conditional statements in Python?\n",
        "  - They control the flow of execution based on certain conditions (if, elif, else).\n",
        "\n",
        "12.\tHow does the elif statement work?\n",
        "  - It allows checking multiple conditions after the initial if. Once a true condition is found, its block runs and the rest are skipped.\n",
        "\n",
        "13.\tWhat is the difference between for and while loops?\n",
        "  - for: Used for iterating over a sequence.\n",
        "  - while: Used when the number of iterations is not known in advance, based on a condition.\n",
        "\n",
        "14.\tScenario where a while loop is more suitable than a for loop:\n",
        " - Reading user input until they enter a specific keyword like \"exit\".\n",
        "\n"
      ],
      "metadata": {
        "id": "e5dXJsLoxM7L"
      }
    },
    {
      "cell_type": "code",
      "source": [
        "# Practical Questions\n",
        "# 1. Write a Python program to print \"Hello, World!\n",
        "\n",
        "print(\"Hello, World!\")\n"
      ],
      "metadata": {
        "collapsed": true,
        "id": "2f4bsDyy08QE"
      },
      "execution_count": null,
      "outputs": []
    },
    {
      "cell_type": "code",
      "source": [
        " # 2. Write a Python program that displays your name and age\n",
        "\n",
        "name = \"Sanchita\"\n",
        "age = 25\n",
        "print(\"Name:\", name)\n",
        "print(\"Age:\", age)\n",
        "\n"
      ],
      "metadata": {
        "id": "YHajA8Rv01DT"
      },
      "execution_count": null,
      "outputs": []
    },
    {
      "cell_type": "code",
      "source": [
        "# 3. Write code to print all the pre-defined keywords in Python using the keyword library\n",
        "\n",
        "import keyword\n",
        "print(keyword.kwlist)\n"
      ],
      "metadata": {
        "id": "QSeskmSK38K1"
      },
      "execution_count": null,
      "outputs": []
    },
    {
      "cell_type": "code",
      "source": [
        "# 4. Write a program that checks if a given word is a Python keyword.\n",
        "\n",
        "import keyword\n",
        "word = input(\"Enter a word: \")\n",
        "if keyword.iskeyword(word):\n",
        "    print(f\"{word} is a keyword.\")\n",
        "else:\n",
        "    print(f\"{word} is not a keyword.\")\n",
        "\n"
      ],
      "metadata": {
        "id": "AFIxMV-m4EB2"
      },
      "execution_count": null,
      "outputs": []
    },
    {
      "cell_type": "code",
      "source": [
        "# 5. Create a list and tuple in Python, and demonstrate how attempting to change an element works differently for each.\n",
        "\n",
        "my_list = [1, 2, 3]\n",
        "my_tuple = (1, 2, 3)\n",
        "\n",
        "my_list[0] = 10  # Works\n",
        "print(\"Modified list:\", my_list)\n",
        "\n",
        "try:\n",
        "    my_tuple[0] = 10  # Error\n",
        "except TypeError:\n",
        "    print(\"Cannot modify tuple elements.\")\n"
      ],
      "metadata": {
        "id": "-0Es8tBc4KT5"
      },
      "execution_count": null,
      "outputs": []
    },
    {
      "cell_type": "code",
      "source": [
        "# 6. Write a function to demonstrate the behavior of mutable and immutable arguments.\n",
        "\n",
        "def modify(data):\n",
        "    data[0] = 99\n",
        "\n",
        "lst = [1, 2, 3]\n",
        "modify(lst)\n",
        "print(\"List after function call:\", lst)  # Changed\n",
        "\n",
        "def try_modify(x):\n",
        "    x = 99\n",
        "\n",
        "num = 10\n",
        "try_modify(num)\n",
        "print(\"Number after function call:\", num)  # Unchanged\n"
      ],
      "metadata": {
        "id": "qVfaSFSv4TDd"
      },
      "execution_count": null,
      "outputs": []
    },
    {
      "cell_type": "code",
      "source": [
        "# 7. Write a program that performs basic arithmetic operations on two user-input numbers.\n",
        "\n",
        "a = float(input(\"Enter first number: \"))\n",
        "b = float(input(\"Enter second number: \"))\n",
        "print(\"Sum:\", a + b)\n",
        "print(\"Difference:\", a - b)\n",
        "print(\"Product:\", a * b)\n",
        "print(\"Quotient:\", a / b)\n"
      ],
      "metadata": {
        "id": "Jw7hxlM_4eBs"
      },
      "execution_count": null,
      "outputs": []
    },
    {
      "cell_type": "code",
      "source": [
        "# 8. Write a program to demonstrate the use of logical operators.\n",
        "\n",
        "a = True\n",
        "b = False\n",
        "print(\"a and b:\", a and b)\n",
        "print(\"a or b:\", a or b)\n",
        "print(\"not a:\", not a)\n"
      ],
      "metadata": {
        "id": "fpWMdigh4dyW"
      },
      "execution_count": null,
      "outputs": []
    },
    {
      "cell_type": "code",
      "source": [
        "# 9.  Write a Python program to convert user input from string to integer, float, and boolean types.\n",
        "\n",
        "s = input(\"Enter a number: \")\n",
        "print(\"Integer:\", int(s))\n",
        "print(\"Float:\", float(s))\n",
        "print(\"Boolean:\", bool(int(s)))\n"
      ],
      "metadata": {
        "id": "zCNTlbgm4ddf"
      },
      "execution_count": null,
      "outputs": []
    },
    {
      "cell_type": "code",
      "source": [
        "# 10. Write code to demonstrate type casting with list elements.\n",
        "\n",
        "str_list = [\"1\", \"2\", \"3\"]\n",
        "int_list = [int(i) for i in str_list]\n",
        "print(\"Converted to integers:\", int_list)\n",
        "\n"
      ],
      "metadata": {
        "id": "HFRxgn034tE2"
      },
      "execution_count": null,
      "outputs": []
    },
    {
      "cell_type": "code",
      "source": [
        "# 11. Write a program that checks if a number is positive, negative, or zero.\n",
        "\n",
        "num = float(input(\"Enter a number: \"))\n",
        "if num > 0:\n",
        "    print(\"Positive\")\n",
        "elif num < 0:\n",
        "    print(\"Negative\")\n",
        "else:\n",
        "    print(\"Zero\")\n"
      ],
      "metadata": {
        "id": "jg4EKTDd4dKE"
      },
      "execution_count": null,
      "outputs": []
    },
    {
      "cell_type": "code",
      "source": [
        "# 12. Write a for loop to print numbers from 1 to 10.\n",
        "\n",
        "for i in range(1, 11):\n",
        "    print(i)\n"
      ],
      "metadata": {
        "id": "xG5EbI3j41mo"
      },
      "execution_count": null,
      "outputs": []
    },
    {
      "cell_type": "code",
      "source": [
        "# 13. Write a Python program to find the sum of all even numbers between 1 and 50.\n",
        "\n",
        "total = 0\n",
        "for i in range(2, 51, 2):\n",
        "    total += i\n",
        "print(\"Sum:\", total)\n",
        "\n"
      ],
      "metadata": {
        "id": "-sBJix7P45UZ"
      },
      "execution_count": null,
      "outputs": []
    },
    {
      "cell_type": "code",
      "source": [
        "# 14. Write a program to reverse a string using a while loop.\n",
        "\n",
        "s = input(\"Enter a string: \")\n",
        "i = len(s) - 1\n",
        "rev = \"\"\n",
        "while i >= 0:\n",
        "    rev += s[i]\n",
        "    i -= 1\n",
        "print(\"Reversed:\", rev)\n",
        "\n"
      ],
      "metadata": {
        "id": "t_ARpFh949_R"
      },
      "execution_count": null,
      "outputs": []
    },
    {
      "cell_type": "code",
      "source": [
        "# 15. Write a Python program to calculate the factorial of a number provided by the user using a while loop.\n",
        "\n",
        "num = int(input(\"Enter a number: \"))\n",
        "fact = 1\n",
        "while num > 1:\n",
        "    fact *= num\n",
        "    num -= 1\n",
        "print(\"Factorial:\", fact)\n"
      ],
      "metadata": {
        "id": "yco2U7s65DIZ"
      },
      "execution_count": null,
      "outputs": []
    }
  ]
}